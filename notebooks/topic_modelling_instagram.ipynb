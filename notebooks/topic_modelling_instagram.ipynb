{
 "cells": [
  {
   "cell_type": "markdown",
   "id": "operating-palmer",
   "metadata": {},
   "source": [
    "# Importing parsed Instagram Post Data for analysis"
   ]
  },
  {
   "cell_type": "code",
   "execution_count": 9,
   "id": "entire-package",
   "metadata": {},
   "outputs": [],
   "source": [
    "import pandas as pd\n",
    "import sys\n",
    "sys.path.append('../')\n",
    "from app.src.data_cleaning.emoji_cleaner import remove_emojis\n",
    "from app.src.data_cleaning.custom_text_preprocessor import preprocess\n",
    "\n",
    "#Load input data\n",
    "data = pd.read_csv('../data/processed/insta_post_1.csv')\n",
    "comments_data = data[['edge_media_to_parent_comment__edges__node__text']]\n",
    "comments_document = comments_data['edge_media_to_parent_comment__edges__node__text']\n",
    "total_docs = comments_document # Previously involved adding all the text documents together to make one giant blob of text"
   ]
  },
  {
   "cell_type": "markdown",
   "id": "careful-technique",
   "metadata": {},
   "source": [
    "# Input Data Cleaning"
   ]
  },
  {
   "cell_type": "code",
   "execution_count": 5,
   "id": "proved-departure",
   "metadata": {},
   "outputs": [],
   "source": [
    "nan_string_value = 'nan'\n",
    "non_null_comment_docs = list(filter(lambda x: str(x) != nan_string_value, total_docs))\n",
    "non_empty_docs = filter(None, map(remove_emojis, non_null_comment_docs))\n",
    "processed_docs = []\n",
    "\n",
    "for doc in non_empty_docs:\n",
    "    processed_docs.append(preprocess(doc))"
   ]
  },
  {
   "cell_type": "markdown",
   "id": "unique-michael",
   "metadata": {},
   "source": [
    "# Data Modelling"
   ]
  },
  {
   "cell_type": "code",
   "execution_count": 10,
   "id": "convertible-rebel",
   "metadata": {},
   "outputs": [
    {
     "name": "stdout",
     "output_type": "stream",
     "text": [
      "\n",
      "Score: 0.728320300579071\t \n",
      "Topic: 0.081*\"2pac\" + 0.064*\"miss\" + 0.063*\"brotha\"\n",
      "\n",
      "Score: 0.27167972922325134\t \n",
      "Topic: 0.058*\"shit\" + 0.058*\"tupac\" + 0.057*\"ask\"\n"
     ]
    }
   ],
   "source": [
    "from gensim import corpora, models\n",
    "\n",
    "dictionary = corpora.Dictionary(processed_docs)\n",
    "dictionary.filter_extremes(no_below=1, no_above=0.5, keep_n=30)\n",
    "bow_corpus = [dictionary.doc2bow(doc) for doc in processed_docs]\n",
    "\n",
    "#LDA - Bag-Of-Words\n",
    "lda_model = models.LdaMulticore(bow_corpus, num_topics=2, id2word=dictionary, passes=2, workers=2)\n",
    "\n",
    "unseen_document = '2pac is in the house, all hands on deck'\n",
    "bow_vector = dictionary.doc2bow(preprocess(unseen_document))\n",
    "\n",
    "for index, score in sorted(lda_model[bow_vector], key=lambda tup: -1*tup[1]):\n",
    "    print(\"\\nScore: {}\\t \\nTopic: {}\".format(score, lda_model.print_topic(index, 3)))"
   ]
  },
  {
   "cell_type": "code",
   "execution_count": null,
   "id": "exact-verse",
   "metadata": {},
   "outputs": [],
   "source": []
  }
 ],
 "metadata": {
  "kernelspec": {
   "display_name": "Python 3.8.8 64-bit",
   "language": "python",
   "name": "python38864bit35ee86e92250411d998d37b73a19bfb2"
  },
  "language_info": {
   "codemirror_mode": {
    "name": "ipython",
    "version": 3
   },
   "file_extension": ".py",
   "mimetype": "text/x-python",
   "name": "python",
   "nbconvert_exporter": "python",
   "pygments_lexer": "ipython3",
   "version": "3.8.8"
  }
 },
 "nbformat": 4,
 "nbformat_minor": 5
}
