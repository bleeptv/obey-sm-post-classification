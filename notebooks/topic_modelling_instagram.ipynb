{
 "cells": [
  {
   "cell_type": "markdown",
   "id": "further-ecology",
   "metadata": {},
   "source": [
    "# Importing parsed Instagram Post Data for analysis"
   ]
  },
  {
   "cell_type": "code",
   "execution_count": 1,
   "id": "light-ozone",
   "metadata": {},
   "outputs": [
    {
     "name": "stderr",
     "output_type": "stream",
     "text": [
      "[nltk_data] Downloading package wordnet to\n",
      "[nltk_data]     /home/robertanizoba/nltk_data...\n",
      "[nltk_data]   Package wordnet is already up-to-date!\n"
     ]
    }
   ],
   "source": [
    "import pandas as pd\n",
    "import sys\n",
    "sys.path.append('../')\n",
    "from app.src.data_cleaning.emoji_cleaner import remove_emojis\n",
    "from app.src.data_cleaning.custom_text_preprocessor import preprocess\n",
    "\n",
    "#Load input data\n",
    "data = pd.read_csv('../data/processed/insta_post_1.csv')\n",
    "comments_data = data[['edge_media_to_parent_comment__edges__node__text']]\n",
    "comments_document = comments_data['edge_media_to_parent_comment__edges__node__text']\n",
    "total_docs = comments_document # Previously involved adding all the text documents together to make one giant blob of text"
   ]
  },
  {
   "cell_type": "markdown",
   "id": "forced-hobby",
   "metadata": {},
   "source": [
    "# Input Data Cleaning"
   ]
  },
  {
   "cell_type": "code",
   "execution_count": 2,
   "id": "incoming-rally",
   "metadata": {},
   "outputs": [],
   "source": [
    "nan_string_value = 'nan'\n",
    "non_null_comment_docs = list(filter(lambda x: str(x) != nan_string_value, total_docs))\n",
    "non_empty_docs = filter(None, map(remove_emojis, non_null_comment_docs))\n",
    "processed_docs = []\n",
    "\n",
    "for doc in non_empty_docs:\n",
    "    processed_docs.append(preprocess(doc))"
   ]
  },
  {
   "cell_type": "markdown",
   "id": "adjustable-herald",
   "metadata": {},
   "source": [
    "# Data Modelling"
   ]
  },
  {
   "cell_type": "code",
   "execution_count": 4,
   "id": "differential-librarian",
   "metadata": {},
   "outputs": [
    {
     "name": "stdout",
     "output_type": "stream",
     "text": [
      "\n",
      "Score: 0.6605111360549927\t \n",
      "Topic: 0.077*\"2pac\" + 0.057*\"tupac\" + 0.056*\"shit\"\n",
      "\n",
      "Score: 0.3394888937473297\t \n",
      "Topic: 0.052*\"2pac\" + 0.044*\"miss\" + 0.044*\"brotha\"\n"
     ]
    }
   ],
   "source": [
    "from gensim import corpora, models\n",
    "\n",
    "dictionary = corpora.Dictionary(processed_docs)\n",
    "dictionary.filter_extremes(no_below=1, no_above=0.5, keep_n=30)\n",
    "bow_corpus = [dictionary.doc2bow(doc) for doc in processed_docs]\n",
    "\n",
    "#LDA - Bag-Of-Words\n",
    "lda_model = models.LdaMulticore(bow_corpus, num_topics=2, id2word=dictionary, passes=2, workers=2)\n",
    "\n",
    "unseen_document = '2pac is in the house, all hands on deck'\n",
    "bow_vector = dictionary.doc2bow(preprocess(unseen_document))\n",
    "\n",
    "for index, score in sorted(lda_model[bow_vector], key=lambda tup: -1*tup[1]):\n",
    "    print(\"\\nScore: {}\\t \\nTopic: {}\".format(score, lda_model.print_topic(index, 3)))"
   ]
  },
  {
   "cell_type": "code",
   "execution_count": null,
   "id": "inappropriate-hours",
   "metadata": {},
   "outputs": [],
   "source": []
  }
 ],
 "metadata": {
  "kernelspec": {
   "display_name": "Python 3.8.8 64-bit",
   "language": "python",
   "name": "python38864bit35ee86e92250411d998d37b73a19bfb2"
  },
  "language_info": {
   "codemirror_mode": {
    "name": "ipython",
    "version": 3
   },
   "file_extension": ".py",
   "mimetype": "text/x-python",
   "name": "python",
   "nbconvert_exporter": "python",
   "pygments_lexer": "ipython3",
   "version": "3.8.8"
  }
 },
 "nbformat": 4,
 "nbformat_minor": 5
}
